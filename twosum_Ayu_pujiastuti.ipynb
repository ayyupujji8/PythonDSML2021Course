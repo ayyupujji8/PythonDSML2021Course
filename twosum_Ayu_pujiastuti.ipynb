{
  "nbformat": 4,
  "nbformat_minor": 0,
  "metadata": {
    "colab": {
      "name": "twosum Ayu pujiastuti.ipynb",
      "provenance": [],
      "collapsed_sections": []
    },
    "kernelspec": {
      "name": "python3",
      "display_name": "Python 3"
    },
    "language_info": {
      "name": "python"
    }
  },
  "cells": [
    {
      "cell_type": "markdown",
      "metadata": {
        "id": "PJXx3aGBoGRN"
      },
      "source": [
        "#Ayu pujiastuti leetcode twosum"
      ]
    },
    {
      "cell_type": "code",
      "metadata": {
        "id": "3MnuGCwGk3Sy"
      },
      "source": [
        " nums = [2,7,11,15]\n",
        " target = 9"
      ],
      "execution_count": null,
      "outputs": []
    },
    {
      "cell_type": "code",
      "metadata": {
        "colab": {
          "base_uri": "https://localhost:8080/",
          "height": 0
        },
        "id": "dd-gv6xRh6-N",
        "outputId": "4dbfaae7-5d98-447f-c938-d283f3dbefa8"
      },
      "source": [
        " num_set = {}\n",
        "for num_index, num in enumerate(nums):\n",
        "  if (target-num) in num_set:\n",
        "    print([num_set[target-num], num_index])\n",
        "  num_set[num] = num_index"
      ],
      "execution_count": 19,
      "outputs": [
        {
          "output_type": "stream",
          "text": [
            "[0, 1]\n"
          ],
          "name": "stdout"
        }
      ]
    }
  ]
}