{
  "nbformat": 4,
  "nbformat_minor": 0,
  "metadata": {
    "colab": {
      "name": "Program for crawling multiple web pages.ipynb",
      "provenance": [],
      "collapsed_sections": []
    },
    "kernelspec": {
      "name": "python3",
      "display_name": "Python 3"
    },
    "language_info": {
      "name": "python"
    }
  },
  "cells": [
    {
      "cell_type": "markdown",
      "metadata": {
        "id": "PJXx3aGBoGRN"
      },
      "source": [
        "#Ayu pujiastuti leetcode twosum"
      ]
    },
    {
      "cell_type": "code",
      "metadata": {
        "colab": {
          "base_uri": "https://localhost:8080/"
        },
        "id": "xGtA6Nn2BHg2",
        "outputId": "b39fb149-8a98-416f-afee-ca54addafc48"
      },
      "source": [
        "import requests\n",
        "from bs4 import BeautifulSoup\n",
        "\n",
        "url = 'https://www.goodreads.com/search?utf8=%E2%9C%93&q=j.s+khairen&search_type=books'\n",
        "\n",
        "r = requests.get(url)\n",
        "\n",
        "requests = r.content\n",
        "\n",
        "soup = BeautifulSoup(requests, 'html.parser')\n",
        "\n",
        "title = soup.findAll('a', attrs={'class':'bookTitle'})\n",
        "author = soup.findAll('a', attrs={'class':'authorName'})\n",
        "\n",
        "count = 0\n",
        "for x in range(0, len(title)):\n",
        "    count += 1\n",
        "    print(\"{0}. {1}\\n   -{2}\"\n",
        "    .format(count, title[x].text.strip(), author[x].text.strip()))\n",
        "\n"
      ],
      "execution_count": 33,
      "outputs": [
        {
          "output_type": "stream",
          "text": [
            "1. Kami Bukan Sarjana Kertas\n",
            "   -J.S. Khairen\n",
            "2. 30 Paspor di Kelas Sang Profesor - Buku 1\n",
            "   -J.S. Khairen\n",
            "3. Rinduku Sederas Hujan Sore Itu\n",
            "   -J.S. Khairen\n",
            "4. 30 Paspor di Kelas Sang Profesor - Buku 2\n",
            "   -J.S. Khairen\n",
            "5. Ninevelove: Hanya untuk Satu Orang, Hanya untuk Kamu\n",
            "   -J.S. Khairen\n",
            "6. Karnoe: Sejarah Tak Tertulis di Balik Nama Besar\n",
            "   -Jombang Santani Khairen\n",
            "7. Bunda Lisa: Samudra dan Angkasa yang Bernyanyi Memeluk Mimpi\n",
            "   -J.S. Khairen\n"
          ],
          "name": "stdout"
        }
      ]
    }
  ]
}