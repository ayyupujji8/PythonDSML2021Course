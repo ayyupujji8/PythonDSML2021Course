{
  "nbformat": 4,
  "nbformat_minor": 0,
  "metadata": {
    "colab": {
      "name": "add two number Ayu pujiastuti.ipynb",
      "provenance": [],
      "collapsed_sections": []
    },
    "kernelspec": {
      "name": "python3",
      "display_name": "Python 3"
    },
    "language_info": {
      "name": "python"
    }
  },
  "cells": [
    {
      "cell_type": "markdown",
      "metadata": {
        "id": "PJXx3aGBoGRN"
      },
      "source": [
        "#Ayu pujiastuti leetcode twosum"
      ]
    },
    {
      "cell_type": "code",
      "metadata": {
        "id": "NHcD1JRe4EjM"
      },
      "source": [
        "l1 = [2,4,3] \n",
        "l2 = [5,6,4]"
      ],
      "execution_count": null,
      "outputs": []
    },
    {
      "cell_type": "code",
      "metadata": {
        "id": "mcCe9uDx32Bk"
      },
      "source": [
        "class Solution:\n",
        "    def addTwoNumbers(self, l1, l2):\n",
        "        a=str(l1.val); b= str(l2.val)\n",
        "        next= l1.next\n",
        "        while next:\n",
        "          a=str(next.val)+a\n",
        "          next= next.next\n",
        "        next= l2.next\n",
        "        while next:\n",
        "          b= str(next.val)+b\n",
        "          next= next.next\n",
        "          \n",
        "        c= str(int(a)+int(b))\n",
        "        i= len(c)-1\n",
        "        l3= ListNode(int(c[i]))\n",
        "        next= l3\n",
        "        while i:          \n",
        "          i-=1\n",
        "          ch= int(c[i])\n",
        "          if next != None:\n",
        "            next.next= ListNode(ch)          \n",
        "            next= next.next\n",
        "        return l3"
      ],
      "execution_count": 21,
      "outputs": []
    }
  ]
}